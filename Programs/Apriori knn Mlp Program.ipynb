{
 "cells": [
  {
   "cell_type": "markdown",
   "metadata": {},
   "source": [
    "# Machine Learning Techniques (CSE6024) Cycle Sheet-3\n",
    "\n",
    "<h2>ANKITA SINHA (20MCI0003)</h2>\n",
    "\n",
    "\n",
    "<h3> Team Members: 20MCI0014, and 20MCI0010 </h3>\n",
    "\n",
    "<p><b>Libraries used:</b> numpy, pandas, matplotlib.pyplot, math, random, and itertools.</p>\n",
    "<p><b> Datasets used:</b> transations.txt, satgpa</p>\n",
    "<h2>Association rule mining-Apriori Program</h2>"
   ]
  },
  {
   "cell_type": "code",
   "execution_count": 1,
   "metadata": {},
   "outputs": [],
   "source": [
    "import numpy as np\n",
    "import pandas as pd\n",
    "import random\n",
    "import itertools"
   ]
  },
  {
   "cell_type": "code",
   "execution_count": 2,
   "metadata": {},
   "outputs": [
    {
     "name": "stdout",
     "output_type": "stream",
     "text": [
      "chocolate candy coke mango peanut\n",
      "\n",
      "pen luggage comforter bag cap detergent towel \n",
      "\n",
      "chocolate pen candy luggage \n",
      "\n",
      "chococate candy coke \n",
      "\n",
      "pen luggage comforter bag\n",
      "\n",
      "chocolate candy coke mango\n",
      "\n",
      "pen luggage comforter bag cap \n",
      "\n",
      "pen luggage comforter bag cap detergent \n",
      "\n",
      "pen luggage comforter\n",
      "\n",
      "candy mango luggage bag\n",
      "\n",
      "coke peanut detergent towel\n",
      "\n",
      "mango pen comforter cap\n",
      "\n",
      "bag cap towel peanut\n",
      "\n",
      "pen luggage comforter chocolate candy\n",
      "\n",
      "pen luggage comforter mango peanut\n",
      "\n",
      "comforter bag cap candy coke mango\n",
      "\n",
      "peanut candy cap towel\n",
      "\n",
      "pen peanut comforter chocolate \n",
      "\n",
      "pen peanut comforter chocolate cap candy\n",
      "\n",
      "chocolate peanut mango luggage bag towel detergent \n",
      "\n"
     ]
    }
   ],
   "source": [
    "data = open(\"transations.txt\")\n",
    "\n",
    "with data as d:\n",
    "    for line in d:\n",
    "        print(line)"
   ]
  },
  {
   "cell_type": "code",
   "execution_count": 3,
   "metadata": {},
   "outputs": [
    {
     "name": "stdout",
     "output_type": "stream",
     "text": [
      "Please enter support value in %: 50\n",
      "Please enter confidence value in %: 50\n"
     ]
    }
   ],
   "source": [
    "support = int(input(\"Please enter support value in %: \"))\n",
    "confidence = int(input(\"Please enter confidence value in %: \"))\n"
   ]
  },
  {
   "cell_type": "code",
   "execution_count": 4,
   "metadata": {},
   "outputs": [
    {
     "name": "stdout",
     "output_type": "stream",
     "text": [
      "[['chocolate', 'candy', 'coke', 'mango', 'peanut'], ['pen', 'luggage', 'comforter', 'bag', 'cap', 'detergent', 'towel'], ['chocolate', 'pen', 'candy', 'luggage'], ['chococate', 'candy', 'coke'], ['pen', 'luggage', 'comforter', 'bag'], ['chocolate', 'candy', 'coke', 'mango'], ['pen', 'luggage', 'comforter', 'bag', 'cap'], ['pen', 'luggage', 'comforter', 'bag', 'cap', 'detergent'], ['pen', 'luggage', 'comforter'], ['candy', 'mango', 'luggage', 'bag'], ['coke', 'peanut', 'detergent', 'towel'], ['mango', 'pen', 'comforter', 'cap'], ['bag', 'cap', 'towel', 'peanut'], ['pen', 'luggage', 'comforter', 'chocolate', 'candy'], ['pen', 'luggage', 'comforter', 'mango', 'peanut'], ['comforter', 'bag', 'cap', 'candy', 'coke', 'mango'], ['peanut', 'candy', 'cap', 'towel'], ['pen', 'peanut', 'comforter', 'chocolate'], ['pen', 'peanut', 'comforter', 'chocolate', 'cap', 'candy'], ['chocolate', 'peanut', 'mango', 'luggage', 'bag', 'towel', 'detergent']]\n"
     ]
    }
   ],
   "source": [
    "C1 = {}\n",
    "transactions = 0\n",
    "D = []\n",
    "T = []\n",
    "with open(\"transations.txt\", \"r\") as f:\n",
    "    for line in f:\n",
    "        T = []\n",
    "        transactions += 1\n",
    "        for word in line.split():\n",
    "            T.append(word)\n",
    "            if word not in C1.keys():\n",
    "                C1[word] = 1\n",
    "            else:\n",
    "                count = C1[word]\n",
    "                C1[word] = count + 1\n",
    "        D.append(T)\n",
    "print(D)"
   ]
  },
  {
   "cell_type": "code",
   "execution_count": 5,
   "metadata": {},
   "outputs": [
    {
     "name": "stdout",
     "output_type": "stream",
     "text": [
      "FREQUENT 1-ITEMSET\n",
      "[['pen'], ['luggage'], ['comforter']]\n"
     ]
    }
   ],
   "source": [
    "L1 = []\n",
    "for key in C1:\n",
    "    if (100 * C1[key]/transactions) >= support:\n",
    "        list = []\n",
    "        list.append(key)\n",
    "        L1.append(list)\n",
    "        \n",
    "print(\"FREQUENT 1-ITEMSET\")\n",
    "print(L1)\n"
   ]
  },
  {
   "cell_type": "code",
   "execution_count": 6,
   "metadata": {},
   "outputs": [],
   "source": [
    "def apriori(Lk_1, k):\n",
    "    length = k\n",
    "    Ck = [] \n",
    "    for list1 in Lk_1:\n",
    "        for list2 in Lk_1:\n",
    "            count = 0\n",
    "            c = []\n",
    "            if list1 != list2:\n",
    "                while count < length-1:\n",
    "                    if list1[count] != list2[count]:\n",
    "                        break\n",
    "                    else:\n",
    "                        count += 1\n",
    "                else:\n",
    "                    if list1[length-1] < list2[length-1]:\n",
    "                        for item in list1:\n",
    "                            c.append(item)\n",
    "                        c.append(list2[length-1])\n",
    "                        if not has_infrequent_subset(c, Lk_1, k):\n",
    "                            Ck.append(c) \n",
    "                            c = []\n",
    "    return Ck"
   ]
  },
  {
   "cell_type": "code",
   "execution_count": 7,
   "metadata": {},
   "outputs": [],
   "source": [
    "def candidateSet(S,m):\n",
    "    return set(itertools.combinations(S, m))\n",
    "\n",
    "def has_infrequent_subset(c, Lk_1, k):\n",
    "    list = []\n",
    "    list = candidateSet(c,k)\n",
    "    for item in list: \n",
    "        s = []\n",
    "        for l in item:\n",
    "            s.append(l)\n",
    "        s.sort()\n",
    "        if s not in Lk_1:\n",
    "            return True\n",
    "    return False"
   ]
  },
  {
   "cell_type": "code",
   "execution_count": 8,
   "metadata": {},
   "outputs": [],
   "source": [
    "def frequentItemsets():\n",
    "    k = 2\n",
    "    Lk_1 = []\n",
    "    Lk = []\n",
    "    L = []\n",
    "    count = 0\n",
    "    transactions = 0\n",
    "    for item in L1:\n",
    "        Lk_1.append(item)\n",
    "    while Lk_1 != []:\n",
    "        Ck = []\n",
    "        Lk = []\n",
    "        Ck = apriori(Lk_1, k-1)\n",
    "        #print \"CANDIDATE %d-ITEMSET\" % k\n",
    "        #print \"Ck: %s\" % Ck\n",
    "        for c in Ck:\n",
    "            count = 0\n",
    "            transactions = 0\n",
    "            s = set(c)\n",
    "            for T in D:\n",
    "                transactions += 1\n",
    "                t = set(T)\n",
    "                if s.issubset(t) == True:\n",
    "                    count += 1\n",
    "            if (100 * count/transactions) >= support:\n",
    "                c.sort()\n",
    "                Lk.append(c)\n",
    "        Lk_1 = []\n",
    "        print(\"FREQUENT %d-ITEMSET\" % k)\n",
    "        print(Lk)\n",
    "        for l in Lk:\n",
    "            Lk_1.append(l)\n",
    "        k += 1\n",
    "        if Lk != []:\n",
    "            L.append(Lk)\n",
    "    \n",
    "    return L"
   ]
  },
  {
   "cell_type": "code",
   "execution_count": 9,
   "metadata": {},
   "outputs": [
    {
     "name": "stdout",
     "output_type": "stream",
     "text": [
      "FREQUENT 2-ITEMSET\n",
      "[['comforter', 'pen']]\n",
      "FREQUENT 3-ITEMSET\n",
      "[]\n",
      "ASSOCIATION RULES:\n",
      "RULES \t \t \t \t   SUPPORT  CONFIDENCE\n",
      "Rule  1 : ['comforter'] --> ['pen']     50     90\n",
      "Rule  2 : ['pen'] --> ['comforter']     50     90\n"
     ]
    }
   ],
   "source": [
    "def associationRuleGen():\n",
    "    s = []\n",
    "    r = []\n",
    "    length = 0\n",
    "    count = 1\n",
    "    inc1 = 0\n",
    "    inc2 = 0\n",
    "    num = 1\n",
    "    m = []\n",
    "    L= frequentItemsets()\n",
    "    print(\"ASSOCIATION RULES:\")\n",
    "    print(\"RULES \\t \\t \\t \\t   SUPPORT  CONFIDENCE\")\n",
    "    for list in L:\n",
    "        for l in list:\n",
    "            length = len(l)\n",
    "            count = 1\n",
    "            while count < length: \n",
    "                s = []\n",
    "                r = candidateSet(l,count)\n",
    "                count += 1\n",
    "                for item in r:\n",
    "                    inc1 = 0\n",
    "                    inc2 = 0\n",
    "                    s = []\n",
    "                    m = []\n",
    "                    for i in item:\n",
    "                        s.append(i)\n",
    "                    for T in D:\n",
    "                        if set(s).issubset(set(T)) == True:\n",
    "                            inc1 += 1\n",
    "                        if set(l).issubset(set(T)) == True:\n",
    "                            inc2 += 1\n",
    "                    if 100*inc2/inc1 >= confidence:\n",
    "                        for index in l:\n",
    "                            if index not in s:\n",
    "                                m.append(index)\n",
    "                        print(\"Rule  %d : %s --> %s     %d     %d\" %(num, s, m, 100*inc2/len(D), 100*inc2/inc1))\n",
    "                        num += 1  \n",
    "\n",
    "associationRuleGen()"
   ]
  },
  {
   "cell_type": "markdown",
   "metadata": {},
   "source": [
    "<h2>K-Nearest Neighbors (KNN) Program</h2>"
   ]
  },
  {
   "cell_type": "code",
   "execution_count": 10,
   "metadata": {},
   "outputs": [],
   "source": [
    "import numpy as np\n",
    "import matplotlib.pyplot as plt\n",
    "\n",
    "# Use matplotlib in Jupyter Notebook Outputs\n",
    "%matplotlib inline"
   ]
  },
  {
   "cell_type": "code",
   "execution_count": 11,
   "metadata": {},
   "outputs": [],
   "source": [
    "X = [[1590,2.9], [1540,2.7], [1600,2.6], [1590,2.7], [1520,2.5], [1540,2.4], [1560,2.3], [1490,2.3], [1510,2.4],\n",
    "     [1350,3.9], [1360,3.7], [1370,3.8], [1380,3.7], [1410,3.6], [1420,3.9], [1430,3.4], [1450,3.7], [1460,3.2],\n",
    "     [1590,3.9], [1540,3.7], [1600,3.6], [1490,3.7], [1520,3.5], [1540,3.4], [1560,3.3], [1460,3.3], [1510,3.4],\n",
    "     [1340,2.9], [1360,2.4], [1320,2.5], [1380,2.6], [1400,2.1], [1320,2.5], [1310,2.7], [1410,2.1], [1305,2.5],\n",
    "     [1460,2.7], [1500,2.9], [1300,3.5], [1320,3.6], [1400,2.7], [1300,3.1], [1350,3.1], [1360,2.9], [1305,3.9], \n",
    "     [1430,3.0], [1440,2.3], [1440,2.5], [1380,2.1], [1430,2.1], [1400,2.5], [1420,2.3], [1310,2.1], [1350,2.0]]\n",
    "\n",
    "Y = ['accepted','accepted','accepted','accepted','accepted','accepted','accepted','accepted','accepted',\n",
    "     'accepted','accepted','accepted','accepted','accepted','accepted','accepted','accepted','accepted',\n",
    "     'accepted','accepted','accepted','accepted','accepted','accepted','accepted','accepted','accepted',\n",
    "     'rejected','rejected','rejected','rejected','rejected','rejected','rejected','rejected','rejected',\n",
    "     'rejected','rejected','rejected','rejected','rejected','rejected','rejected','rejected','rejected',\n",
    "     'rejected','rejected','rejected','rejected','rejected','rejected','rejected','rejected','rejected']"
   ]
  },
  {
   "cell_type": "code",
   "execution_count": 12,
   "metadata": {},
   "outputs": [
    {
     "data": {
      "text/plain": [
       "[]"
      ]
     },
     "execution_count": 12,
     "metadata": {},
     "output_type": "execute_result"
    },
    {
     "data": {
      "image/png": "[encoded data removed]",
      "text/plain": [
       "<Figure size 432x288 with 1 Axes>"
      ]
     },
     "metadata": {
      "needs_background": "light"
     },
     "output_type": "display_data"
    }
   ],
   "source": [
    "for i in range(len(X)):\n",
    "    if Y[i] == 'accepted':\n",
    "        plt.scatter(X[i][0], X[i][1], s=120, marker='*', linewidths=2, color='green')\n",
    "    else:\n",
    "        plt.scatter(X[i][0], X[i][1], s=120, marker='+', linewidths=2, color='red')\n",
    "        \n",
    "plt.plot()"
   ]
  },
  {
   "cell_type": "code",
   "execution_count": 13,
   "metadata": {},
   "outputs": [],
   "source": [
    "def most_found(array):\n",
    "    list_of_words = []\n",
    "    for i in range(len(array)):\n",
    "        if array[i] not in list_of_words:\n",
    "            list_of_words.append(array[i])\n",
    "            \n",
    "    most_counted = ''\n",
    "    n_of_most_counted = None\n",
    "    \n",
    "    for i in range(len(list_of_words)):\n",
    "        counted = array.count(list_of_words[i])\n",
    "        if n_of_most_counted == None:\n",
    "            most_counted = list_of_words[i]\n",
    "            n_of_most_counted = counted\n",
    "        elif n_of_most_counted < counted:\n",
    "            most_counted = list_of_words[i]\n",
    "            n_of_most_counted = counted\n",
    "        elif n_of_most_counted == counted:\n",
    "            most_counted = None\n",
    "            \n",
    "    return most_counted"
   ]
  },
  {
   "cell_type": "code",
   "execution_count": 14,
   "metadata": {},
   "outputs": [],
   "source": [
    "def find_neighbors(point, data, labels, k=3):\n",
    "    n_of_dimensions = len(point)\n",
    "    \n",
    "    neighbors = []\n",
    "    neighbor_labels = []\n",
    "    \n",
    "    for i in range(0, k):\n",
    "        nearest_neighbor_id = None\n",
    "        smallest_distance = None\n",
    "        \n",
    "        for i in range(0, len(data)):\n",
    "            eucledian_dist = 0\n",
    "            for d in range(0, n_of_dimensions):\n",
    "                dist = abs(point[d] - data[i][d])\n",
    "                eucledian_dist += dist\n",
    "                \n",
    "            eucledian_dist = np.sqrt(eucledian_dist)\n",
    "            \n",
    "            if smallest_distance == None:\n",
    "                smallest_distance = eucledian_dist\n",
    "                nearest_neighbor_id = i\n",
    "            elif smallest_distance > eucledian_dist:\n",
    "                smallest_distance = eucledian_dist\n",
    "                nearest_neighbor_id = i\n",
    "                \n",
    "        neighbors.append(data[nearest_neighbor_id])\n",
    "        neighbor_labels.append(labels[nearest_neighbor_id])\n",
    "        \n",
    "        data.remove(data[nearest_neighbor_id])\n",
    "        labels.remove(labels[nearest_neighbor_id])\n",
    "    return neighbor_labels"
   ]
  },
  {
   "cell_type": "code",
   "execution_count": 15,
   "metadata": {},
   "outputs": [],
   "source": [
    "def k_nearest_neighbor(point, data, labels, k=3):\n",
    "    while True:\n",
    "        neighbor_labels = find_neighbors(point, data, labels, k=k)\n",
    "        label = most_found(neighbor_labels)\n",
    "        if label != None:\n",
    "            break\n",
    "        k += 1\n",
    "        if k >= len(data):\n",
    "            break\n",
    "            \n",
    "    return label"
   ]
  },
  {
   "cell_type": "code",
   "execution_count": 16,
   "metadata": {},
   "outputs": [
    {
     "data": {
      "text/plain": [
       "'accepted'"
      ]
     },
     "execution_count": 16,
     "metadata": {},
     "output_type": "execute_result"
    }
   ],
   "source": [
    "point = [1500, 2.3]\n",
    "k_nearest_neighbor(point, X, Y, k=5)"
   ]
  },
  {
   "cell_type": "markdown",
   "metadata": {},
   "source": [
    "<h2>Multi Layer Perceptron Program</h2>"
   ]
  },
  {
   "cell_type": "code",
   "execution_count": 17,
   "metadata": {},
   "outputs": [],
   "source": [
    "import numpy as np\n",
    "import pandas as pd \n",
    "import random \n",
    "import math\n",
    "from numpy import dot,exp"
   ]
  },
  {
   "cell_type": "code",
   "execution_count": 18,
   "metadata": {},
   "outputs": [],
   "source": [
    "def Network( model_structure):\n",
    "    global no_of_layers \n",
    "    global model \n",
    "    global W \n",
    "    \n",
    "    np.random.seed(0)     \n",
    "    no_of_layers = len(model_structure)\n",
    "    \n",
    "    model = model_structure\n",
    "    W = [] \n",
    "\n",
    "    c = no_of_layers - 1\n",
    "\n",
    "    for Layer in range(c):\n",
    "        w = 2*np.random.rand(model[Layer] + 1, model[Layer+1]) -1\n",
    "        W.append(w)"
   ]
  },
  {
   "cell_type": "code",
   "execution_count": 19,
   "metadata": {},
   "outputs": [],
   "source": [
    "e=np.exp \n",
    "\n",
    "def tanh(x):\n",
    "    return (1.0 - e(-2*x))/(1.0 + e(-2*x))\n",
    "\n",
    "def dy_dxTanh(x):\n",
    "    return (1 + tanh(x))*(1 - tanh(x))"
   ]
  },
  {
   "cell_type": "code",
   "execution_count": 20,
   "metadata": {},
   "outputs": [],
   "source": [
    "def MultiLayerPerceptron( a,actual_value,alpha): \n",
    "        y = a\n",
    "        d=len(W)-1\n",
    "        for i in range(d):\n",
    "            weighted_sum = np.dot(y[i], W[i]) \n",
    "            f_of_x = tanh(weighted_sum) \n",
    "            f_of_x = np.concatenate((np.ones(1), np.array(f_of_x)))\n",
    "            y.append(f_of_x)\n",
    "        \n",
    "        weighted_sum = np.dot(y[-1], W[-1]) \n",
    "        f_of_x = tanh(weighted_sum)    \n",
    "        y.append(f_of_x)\n",
    "    \n",
    "        error = actual_value - y[-1]      \n",
    "        change = [error * dy_dxTanh(y[-1])] \n",
    "\n",
    "        for i in range(no_of_layers-2, 0, -1):\n",
    "            error = change[-1].dot(W[i][1:].T) \n",
    "            error = error*dy_dxTanh(y[i][1:])\n",
    "            change.append(error)\n",
    "        change.reverse()\n",
    "        \n",
    "        for i in range(len(W)):\n",
    "            Layer = y[i].reshape(1, model[i]+1)\n",
    "            delta = change[i].reshape(1, model[i+1])\n",
    "            W[i] = W[i]+ alpha*Layer.T.dot(delta)"
   ]
  },
  {
   "cell_type": "code",
   "execution_count": 21,
   "metadata": {},
   "outputs": [],
   "source": [
    "def fit( data, target_labels, alpha, epochs=100):\n",
    "        ans = np.ones((1, data.shape[0]))\n",
    "        Zita = np.concatenate((ans.T, data), axis=1)\n",
    "        \n",
    "        for m in range(epochs):\n",
    "            example = np.random.randint(X.shape[0])\n",
    "            x = [Zita[example]]  \n",
    "            actual_value = target_labels[example]\n",
    "            y = MultiLayerPerceptron(x,actual_value,alpha)"
   ]
  },
  {
   "cell_type": "code",
   "execution_count": 22,
   "metadata": {},
   "outputs": [],
   "source": [
    "def predict_1( x):  \n",
    "    val = np.concatenate((np.ones(1).T, np.array(x)))\n",
    "    for i in range(0, len(W)):\n",
    "        val = tanh(np.dot(val, W[i]))\n",
    "        val = np.concatenate((np.ones(1).T, np.array(val)))\n",
    "    return val[1]\n",
    "    \n",
    "def predict( X):\n",
    "    value = np.array([]).reshape(0, model[-1])\n",
    "    for p in X:  \n",
    "        y_pred = np.array([[predict_1(p)]]) \n",
    "        value = np.vstack((value,y_pred))\n",
    "    return value"
   ]
  },
  {
   "cell_type": "code",
   "execution_count": 23,
   "metadata": {},
   "outputs": [],
   "source": [
    "Network([2,2,1])"
   ]
  },
  {
   "cell_type": "code",
   "execution_count": 24,
   "metadata": {},
   "outputs": [],
   "source": [
    "X = np.array([[0, 0], [0, 1], [1, 0], [1, 1]])\n",
    "y = np.array([0, 1, 1, 0])\n",
    "\n",
    "learning_rate=0.1  \n",
    "fit(X, y,learning_rate, epochs=6000)"
   ]
  },
  {
   "cell_type": "code",
   "execution_count": 25,
   "metadata": {},
   "outputs": [
    {
     "name": "stdout",
     "output_type": "stream",
     "text": [
      "Final prediction\n",
      "[0 0]   0   [ 0.005625211435814411 ]\n",
      "[0 1]   1   [ 0.9922099656276941 ]\n",
      "[1 0]   1   [ 0.9915443580479176 ]\n",
      "[1 1]   0   [ 0.01694332658239065 ]\n"
     ]
    }
   ],
   "source": [
    "print(\"Final prediction\")\n",
    "l=[]\n",
    "i=0\n",
    "for s in X:\n",
    "    p = predict_1(s)\n",
    "    if p >0.5:\n",
    "        l.append(1)\n",
    "    else:\n",
    "        l.append(0)\n",
    "    print(s,\" \",l[i],\" \",\"[\",p,\"]\")\n",
    "    i=i+1"
   ]
  }
 ],
 "metadata": {
  "kernelspec": {
   "display_name": "Python 3",
   "language": "python",
   "name": "python3"
  },
  "language_info": {
   "codemirror_mode": {
    "name": "ipython",
    "version": 3
   },
   "file_extension": ".py",
   "mimetype": "text/x-python",
   "name": "python",
   "nbconvert_exporter": "python",
   "pygments_lexer": "ipython3",
   "version": "3.8.3"
  }
 },
 "nbformat": 4,
 "nbformat_minor": 4
}
