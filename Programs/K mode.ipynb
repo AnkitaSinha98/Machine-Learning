{
 "cells": [
  {
   "cell_type": "markdown",
   "metadata": {},
   "source": [
    "# MLT Lab FAT\n",
    "## ANKITA SINHA 20MCI0003\n",
    "### EXPERIMENT: Kmode, Bar chart\n",
    "### DATASET: https://archive.ics.uci.edu/ml/datasets/Dresses_Attribute_Sales#\n"
   ]
  },
  {
   "cell_type": "markdown",
   "metadata": {},
   "source": [
    "# K MODE "
   ]
  },
  {
   "cell_type": "code",
   "execution_count": 1,
   "metadata": {},
   "outputs": [],
   "source": [
    "import warnings\n",
    "warnings.filterwarnings('ignore')\n",
    "\n",
    "import numpy as np\n",
    "import pandas as pd\n",
    "import random \n",
    "from scipy import stats\n",
    "from sklearn import preprocessing\n",
    "from sklearn.metrics import classification_report\n",
    "from sklearn.model_selection import train_test_split\n",
    "from sklearn.preprocessing import LabelEncoder\n",
    "\n",
    "import matplotlib.pyplot as plt"
   ]
  },
  {
   "cell_type": "code",
   "execution_count": 2,
   "metadata": {},
   "outputs": [
    {
     "data": {
      "text/html": [
       "<div>\n",
       "<style scoped>\n",
       "    .dataframe tbody tr th:only-of-type {\n",
       "        vertical-align: middle;\n",
       "    }\n",
       "\n",
       "    .dataframe tbody tr th {\n",
       "        vertical-align: top;\n",
       "    }\n",
       "\n",
       "    .dataframe thead th {\n",
       "        text-align: right;\n",
       "    }\n",
       "</style>\n",
       "<table border=\"1\" class=\"dataframe\">\n",
       "  <thead>\n",
       "    <tr style=\"text-align: right;\">\n",
       "      <th></th>\n",
       "      <th>Price</th>\n",
       "      <th>Size</th>\n",
       "      <th>Season</th>\n",
       "      <th>NeckLine</th>\n",
       "    </tr>\n",
       "  </thead>\n",
       "  <tbody>\n",
       "    <tr>\n",
       "      <th>0</th>\n",
       "      <td>Low</td>\n",
       "      <td>M</td>\n",
       "      <td>Summer</td>\n",
       "      <td>o-neck</td>\n",
       "    </tr>\n",
       "    <tr>\n",
       "      <th>1</th>\n",
       "      <td>Low</td>\n",
       "      <td>L</td>\n",
       "      <td>Summer</td>\n",
       "      <td>o-neck</td>\n",
       "    </tr>\n",
       "    <tr>\n",
       "      <th>2</th>\n",
       "      <td>High</td>\n",
       "      <td>L</td>\n",
       "      <td>Automn</td>\n",
       "      <td>o-neck</td>\n",
       "    </tr>\n",
       "    <tr>\n",
       "      <th>3</th>\n",
       "      <td>Average</td>\n",
       "      <td>L</td>\n",
       "      <td>Spring</td>\n",
       "      <td>o-neck</td>\n",
       "    </tr>\n",
       "    <tr>\n",
       "      <th>4</th>\n",
       "      <td>Low</td>\n",
       "      <td>M</td>\n",
       "      <td>Summer</td>\n",
       "      <td>o-neck</td>\n",
       "    </tr>\n",
       "    <tr>\n",
       "      <th>5</th>\n",
       "      <td>Low</td>\n",
       "      <td>M</td>\n",
       "      <td>Summer</td>\n",
       "      <td>v-neck</td>\n",
       "    </tr>\n",
       "    <tr>\n",
       "      <th>6</th>\n",
       "      <td>Average</td>\n",
       "      <td>XL</td>\n",
       "      <td>Summer</td>\n",
       "      <td>o-neck</td>\n",
       "    </tr>\n",
       "    <tr>\n",
       "      <th>7</th>\n",
       "      <td>Average</td>\n",
       "      <td>free</td>\n",
       "      <td>Automn</td>\n",
       "      <td>o-neck</td>\n",
       "    </tr>\n",
       "    <tr>\n",
       "      <th>8</th>\n",
       "      <td>Average</td>\n",
       "      <td>free</td>\n",
       "      <td>Spring</td>\n",
       "      <td>v-neck</td>\n",
       "    </tr>\n",
       "    <tr>\n",
       "      <th>9</th>\n",
       "      <td>Low</td>\n",
       "      <td>free</td>\n",
       "      <td>Summer</td>\n",
       "      <td>v-neck</td>\n",
       "    </tr>\n",
       "  </tbody>\n",
       "</table>\n",
       "</div>"
      ],
      "text/plain": [
       "     Price  Size  Season NeckLine\n",
       "0      Low     M  Summer   o-neck\n",
       "1      Low     L  Summer   o-neck\n",
       "2     High     L  Automn   o-neck\n",
       "3  Average     L  Spring   o-neck\n",
       "4      Low     M  Summer   o-neck\n",
       "5      Low     M  Summer   v-neck\n",
       "6  Average    XL  Summer   o-neck\n",
       "7  Average  free  Automn   o-neck\n",
       "8  Average  free  Spring   v-neck\n",
       "9      Low  free  Summer   v-neck"
      ]
     },
     "execution_count": 2,
     "metadata": {},
     "output_type": "execute_result"
    }
   ],
   "source": [
    "data = pd.read_excel(\"Attribute DataSet.xlsx\", usecols=['Price', 'Size','Season','NeckLine'])\n",
    "data.head(10)"
   ]
  },
  {
   "cell_type": "code",
   "execution_count": 3,
   "metadata": {},
   "outputs": [
    {
     "data": {
      "text/plain": [
       "(500, 4)"
      ]
     },
     "execution_count": 3,
     "metadata": {},
     "output_type": "execute_result"
    }
   ],
   "source": [
    "data.shape"
   ]
  },
  {
   "cell_type": "code",
   "execution_count": 4,
   "metadata": {},
   "outputs": [
    {
     "name": "stdout",
     "output_type": "stream",
     "text": [
      "500\n"
     ]
    }
   ],
   "source": [
    "labels = np.zeros(len(data.index))\n",
    "print(len(labels))"
   ]
  },
  {
   "cell_type": "code",
   "execution_count": 5,
   "metadata": {},
   "outputs": [],
   "source": [
    "data_array = data.to_numpy(dtype='str')"
   ]
  },
  {
   "cell_type": "code",
   "execution_count": 6,
   "metadata": {},
   "outputs": [
    {
     "data": {
      "text/plain": [
       "array(['Average', 'free', 'Summer', 'open'], dtype='<U15')"
      ]
     },
     "execution_count": 6,
     "metadata": {},
     "output_type": "execute_result"
    }
   ],
   "source": [
    "data_array[100]"
   ]
  },
  {
   "cell_type": "code",
   "execution_count": 7,
   "metadata": {},
   "outputs": [
    {
     "name": "stdout",
     "output_type": "stream",
     "text": [
      "500\n",
      "4\n"
     ]
    }
   ],
   "source": [
    "print(len(data_array))\n",
    "print(len(data_array[100]))"
   ]
  },
  {
   "cell_type": "code",
   "execution_count": 8,
   "metadata": {},
   "outputs": [
    {
     "name": "stdout",
     "output_type": "stream",
     "text": [
      "[481]\n",
      "[['Average' 'L' 'Spring' 'o-neck']]\n"
     ]
    }
   ],
   "source": [
    "k = 10\n",
    "\n",
    "initial_mode_index = np.random.randint(0, 500, size=1)\n",
    "print(initial_mode_index)\n",
    "\n",
    "Q = data_array[initial_mode_index]\n",
    "print(Q)"
   ]
  },
  {
   "cell_type": "code",
   "execution_count": 9,
   "metadata": {},
   "outputs": [
    {
     "name": "stdout",
     "output_type": "stream",
     "text": [
      "[ True  True  True  True]\n"
     ]
    }
   ],
   "source": [
    "def get_mode_object_comparision(mode, obj):\n",
    "    return np.char.compare_chararrays(mode, obj, '!=', True)\n",
    "\n",
    "mode_and_obj50 = get_mode_object_comparision(Q[0], data_array[50])\n",
    "print(mode_and_obj50)"
   ]
  },
  {
   "cell_type": "code",
   "execution_count": 10,
   "metadata": {},
   "outputs": [
    {
     "name": "stdout",
     "output_type": "stream",
     "text": [
      "4\n"
     ]
    }
   ],
   "source": [
    "distance = 0\n",
    "for boolean in mode_and_obj50:\n",
    "    if boolean == True:\n",
    "        distance +=1\n",
    "print(distance)"
   ]
  },
  {
   "cell_type": "code",
   "execution_count": 11,
   "metadata": {},
   "outputs": [],
   "source": [
    "def calculate_distances(mode, objects):\n",
    "    obj_num = len(data_array)\n",
    "    \n",
    "    distances = []\n",
    "\n",
    "    for i in range(obj_num):\n",
    "        dist_array = np.char.compare_chararrays(mode, objects[i], '!=', True)\n",
    "\n",
    "        distance = 0\n",
    "\n",
    "        for value in dist_array:\n",
    "            if value == True:\n",
    "                distance += 1\n",
    "\n",
    "        distances.append(distance)\n",
    "\n",
    "    return distances"
   ]
  },
  {
   "cell_type": "code",
   "execution_count": 12,
   "metadata": {},
   "outputs": [
    {
     "name": "stdout",
     "output_type": "stream",
     "text": [
      "[3, 2, 2, 0, 3, 4, 2, 2, 2, 4, 2, 2, 3, 2, 4, 4, 1, 3, 3, 2, 1, 3, 4, 3, 3, 2, 1, 2, 3, 3, 1, 2, 1, 0, 2, 4, 2, 2, 2, 2, 2, 2, 2, 2, 2, 2, 1, 2, 3, 3, 4, 3, 0, 2, 1, 3, 3, 2, 4, 3, 3, 1, 2, 2, 3, 3, 4, 3, 2, 4, 3, 3, 3, 2, 3, 1, 3, 3, 1, 4, 4, 2, 2, 3, 2, 3, 3, 3, 3, 3, 1, 1, 4, 2, 3, 3, 1, 3, 3, 3, 3, 2, 3, 3, 3, 1, 2, 3, 2, 1, 2, 3, 2, 2, 1, 1, 0, 2, 4, 2, 2, 2, 2, 4, 0, 2, 3, 4, 3, 1, 4, 2, 2, 1, 1, 3, 2, 1, 3, 3, 4, 3, 1, 2, 1, 3, 4, 2, 2, 2, 3, 4, 4, 2, 3, 3, 2, 3, 3, 3, 1, 1, 3, 1, 2, 2, 3, 3, 2, 2, 3, 3, 2, 3, 2, 2, 2, 1, 3, 4, 2, 4, 2, 4, 4, 2, 3, 3, 3, 2, 3, 3, 2, 2, 2, 3, 3, 3, 1, 2, 3, 3, 2, 3, 2, 3, 1, 2, 1, 3, 3, 2, 2, 4, 2, 1, 4, 3, 2, 1, 4, 1, 2, 3, 2, 4, 3, 3, 3, 4, 3, 3, 2, 2, 2, 2, 2, 3, 1, 3, 3, 3, 3, 2, 2, 3, 1, 3, 2, 3, 3, 4, 3, 3, 3, 4, 4, 3, 4, 3, 2, 4, 3, 3, 3, 4, 2, 2, 4, 2, 2, 4, 3, 3, 3, 3, 4, 3, 4, 2, 3, 3, 2, 4, 4, 3, 2, 1, 3, 2, 2, 4, 2, 3, 4, 2, 2, 2, 3, 3, 4, 3, 2, 2, 2, 3, 3, 1, 1, 3, 3, 3, 2, 4, 3, 2, 3, 3, 3, 1, 1, 3, 3, 3, 1, 4, 2, 3, 2, 3, 2, 1, 3, 4, 3, 2, 3, 2, 3, 2, 2, 3, 1, 2, 1, 3, 3, 3, 3, 3, 2, 3, 3, 3, 2, 4, 4, 4, 3, 3, 3, 2, 3, 1, 3, 3, 2, 3, 1, 3, 2, 4, 2, 2, 3, 4, 2, 2, 2, 3, 3, 1, 2, 3, 3, 2, 2, 3, 3, 2, 1, 3, 3, 1, 3, 1, 2, 3, 3, 2, 3, 4, 2, 2, 3, 3, 2, 2, 2, 3, 3, 2, 3, 3, 2, 1, 2, 4, 3, 2, 1, 2, 2, 2, 3, 2, 3, 2, 3, 4, 2, 2, 3, 3, 3, 2, 1, 4, 3, 3, 3, 4, 2, 2, 3, 3, 4, 2, 4, 2, 2, 3, 2, 2, 2, 1, 4, 3, 2, 2, 3, 2, 1, 2, 4, 2, 2, 2, 3, 1, 3, 3, 3, 3, 1, 4, 4, 3, 3, 3, 3, 0, 1, 3, 3, 3, 2, 3, 3, 1, 4, 1, 1, 3, 2, 2, 3, 3, 2, 4]\n"
     ]
    }
   ],
   "source": [
    "distances = calculate_distances(Q[0], data_array)\n",
    "print(distances)"
   ]
  },
  {
   "cell_type": "code",
   "execution_count": 13,
   "metadata": {},
   "outputs": [
    {
     "name": "stdout",
     "output_type": "stream",
     "text": [
      "500\n"
     ]
    }
   ],
   "source": [
    "print(len(distances))"
   ]
  },
  {
   "cell_type": "code",
   "execution_count": 14,
   "metadata": {},
   "outputs": [
    {
     "name": "stdout",
     "output_type": "stream",
     "text": [
      "2\n"
     ]
    }
   ],
   "source": [
    "print(distances[222])"
   ]
  },
  {
   "cell_type": "code",
   "execution_count": 15,
   "metadata": {},
   "outputs": [
    {
     "name": "stdout",
     "output_type": "stream",
     "text": [
      "[0. 1. 1. 1. 0. 0. 1. 1. 1. 0. 1. 1. 0. 1. 0. 0. 1. 0. 0. 1. 1. 0. 0. 0.\n",
      " 0. 1. 1. 1. 0. 0. 1. 1. 1. 1. 1. 0. 1. 1. 1. 1. 1. 1. 1. 1. 1. 1. 1. 1.\n",
      " 0. 0. 0. 0. 1. 1. 1. 0. 0. 1. 0. 0. 0. 1. 1. 1. 0. 0. 0. 0. 1. 0. 0. 0.\n",
      " 0. 1. 0. 1. 0. 0. 1. 0. 0. 1. 1. 0. 1. 0. 0. 0. 0. 0. 1. 1. 0. 1. 0. 0.\n",
      " 1. 0. 0. 0. 0. 1. 0. 0. 0. 1. 1. 0. 1. 1. 1. 0. 1. 1. 1. 1. 1. 1. 0. 1.\n",
      " 1. 1. 1. 0. 1. 1. 0. 0. 0. 1. 0. 1. 1. 1. 1. 0. 1. 1. 0. 0. 0. 0. 1. 1.\n",
      " 1. 0. 0. 1. 1. 1. 0. 0. 0. 1. 0. 0. 1. 0. 0. 0. 1. 1. 0. 1. 1. 1. 0. 0.\n",
      " 1. 1. 0. 0. 1. 0. 1. 1. 1. 1. 0. 0. 1. 0. 1. 0. 0. 1. 0. 0. 0. 1. 0. 0.\n",
      " 1. 1. 1. 0. 0. 0. 1. 1. 0. 0. 1. 0. 1. 0. 1. 1. 1. 0. 0. 1. 1. 0. 1. 1.\n",
      " 0. 0. 1. 1. 0. 1. 1. 0. 1. 0. 0. 0. 0. 0. 0. 0. 1. 1. 1. 1. 1. 0. 1. 0.\n",
      " 0. 0. 0. 1. 1. 0. 1. 0. 1. 0. 0. 0. 0. 0. 0. 0. 0. 0. 0. 0. 1. 0. 0. 0.\n",
      " 0. 0. 1. 1. 0. 1. 1. 0. 0. 0. 0. 0. 0. 0. 0. 1. 0. 0. 1. 0. 0. 0. 1. 1.\n",
      " 0. 1. 1. 0. 1. 0. 0. 1. 1. 1. 0. 0. 0. 0. 1. 1. 1. 0. 0. 1. 1. 0. 0. 0.\n",
      " 1. 0. 0. 1. 0. 0. 0. 1. 1. 0. 0. 0. 1. 0. 1. 0. 1. 0. 1. 1. 0. 0. 0. 1.\n",
      " 0. 1. 0. 1. 1. 0. 1. 1. 1. 0. 0. 0. 0. 0. 1. 0. 0. 0. 1. 0. 0. 0. 0. 0.\n",
      " 0. 1. 0. 1. 0. 0. 1. 0. 1. 0. 1. 0. 1. 1. 0. 0. 1. 1. 1. 0. 0. 1. 1. 0.\n",
      " 0. 1. 1. 0. 0. 1. 1. 0. 0. 1. 0. 1. 1. 0. 0. 1. 0. 0. 1. 1. 0. 0. 1. 1.\n",
      " 1. 0. 0. 1. 0. 0. 1. 1. 1. 0. 0. 1. 1. 1. 1. 1. 0. 1. 0. 1. 0. 0. 1. 1.\n",
      " 0. 0. 0. 1. 1. 0. 0. 0. 0. 0. 1. 1. 0. 0. 0. 1. 0. 1. 1. 0. 1. 1. 1. 1.\n",
      " 0. 0. 1. 1. 0. 1. 1. 1. 0. 1. 1. 1. 0. 1. 0. 0. 0. 0. 1. 0. 0. 0. 0. 0.\n",
      " 0. 1. 1. 0. 0. 0. 1. 0. 0. 1. 0. 1. 1. 0. 1. 1. 0. 0. 1. 0.]\n"
     ]
    }
   ],
   "source": [
    "def update_labels():\n",
    "    for i in range(len(distances)):\n",
    "        if (distances[i] <= (len(Q[0]) / 2)):\n",
    "            labels[i] = 1\n",
    "        else:\n",
    "            continue\n",
    "\n",
    "update_labels()\n",
    "\n",
    "print(labels)"
   ]
  },
  {
   "cell_type": "code",
   "execution_count": 16,
   "metadata": {},
   "outputs": [
    {
     "name": "stdout",
     "output_type": "stream",
     "text": [
      "[array(['Low', 'L', 'Summer', 'o-neck'], dtype='<U15'), array(['High', 'L', 'Automn', 'o-neck'], dtype='<U15'), array(['Average', 'L', 'Spring', 'o-neck'], dtype='<U15'), array(['Average', 'XL', 'Summer', 'o-neck'], dtype='<U15'), array(['Average', 'free', 'Automn', 'o-neck'], dtype='<U15'), array(['Average', 'free', 'Spring', 'v-neck'], dtype='<U15'), array(['Average', 'free', 'Summer', 'o-neck'], dtype='<U15'), array(['Average', 'free', 'Spring', 'v-neck'], dtype='<U15'), array(['Average', 'M', 'Summer', 'o-neck'], dtype='<U15'), array(['Average', 'L', 'spring', 'o-neck'], dtype='<U15'), array(['Average', 'M', 'Automn', 'o-neck'], dtype='<U15'), array(['Average', 'L', 'Automn', 'o-neck'], dtype='<U15'), array(['Average', 'M', 'Automn', 'o-neck'], dtype='<U15'), array(['Average', 'M', 'Spring', 'o-neck'], dtype='<U15'), array(['Low', 'L', 'Summer', 'o-neck'], dtype='<U15'), array(['Average', 'L', 'Automn', 'o-neck'], dtype='<U15'), array(['Low', 'M', 'Spring', 'o-neck'], dtype='<U15'), array(['Average', 'L', 'Automn', 'o-neck'], dtype='<U15'), array(['Average', 'L', 'Spring', 'o-neck'], dtype='<U15'), array(['High', 'M', 'Spring', 'o-neck'], dtype='<U15'), array(['Average', 'free', 'Winter', 'o-neck'], dtype='<U15'), array(['Average', 'M', 'Automn', 'o-neck'], dtype='<U15'), array(['Average', 'M', 'Winter', 'o-neck'], dtype='<U15'), array(['Average', 'M', 'Spring', 'v-neck'], dtype='<U15'), array(['Average', 'free', 'Spring', 'v-neck'], dtype='<U15'), array(['Low', 'L', 'Automn', 'o-neck'], dtype='<U15'), array(['Average', 'M', 'Winter', 'o-neck'], dtype='<U15'), array(['Low', 'free', 'Spring', 'o-neck'], dtype='<U15'), array(['Average', 'M', 'Winter', 'o-neck'], dtype='<U15'), array(['Average', 'M', 'Winter', 'o-neck'], dtype='<U15'), array(['Average', 'L', 'Spring', 'v-neck'], dtype='<U15'), array(['Average', 'M', 'Summer', 'o-neck'], dtype='<U15'), array(['Average', 'L', 'Spring', 'o-neck'], dtype='<U15'), array(['Average', 'free', 'Automn', 'o-neck'], dtype='<U15'), array(['Average', 'M', 'Spring', 'o-neck'], dtype='<U15'), array(['Low', 'L', 'Automn', 'o-neck'], dtype='<U15'), array(['Average', 'free', 'Spring', 'o-neck'], dtype='<U15'), array(['Average', 'M', 'Summer', 'o-neck'], dtype='<U15'), array(['Average', 'M', 'spring', 'o-neck'], dtype='<U15'), array(['Average', 'L', 'Summer', 'v-neck'], dtype='<U15'), array(['Low', 'free', 'Spring', 'o-neck'], dtype='<U15'), array(['Low', 'L', 'Spring', 'o-neck'], dtype='<U15'), array(['Average', 'free', 'Spring', 'o-neck'], dtype='<U15'), array(['Average', 'M', 'Spring', 'v-neck'], dtype='<U15'), array(['Low', 'free', 'Spring', 'o-neck'], dtype='<U15'), array(['Average', 'free', 'Winter', 'o-neck'], dtype='<U15'), array(['Average', 'L', 'Spring', 'boat-neck'], dtype='<U15'), array(['Average', 'L', 'Winter', 'o-neck'], dtype='<U15'), array(['Low', 'M', 'Spring', 'o-neck'], dtype='<U15'), array(['Average', 'M', 'Spring', 'o-neck'], dtype='<U15'), array(['Average', 'L', 'Summer', 'v-neck'], dtype='<U15'), array(['Average', 'L', 'Summer', 'o-neck'], dtype='<U15'), array(['Low', 'M', 'Spring', 'o-neck'], dtype='<U15'), array(['Medium', 'free', 'Spring', 'o-neck'], dtype='<U15'), array(['Average', 'L', 'Automn', 'o-neck'], dtype='<U15'), array(['Average', 'L', 'Automn', 'v-neck'], dtype='<U15'), array(['Average', 'M', 'Automn', 'o-neck'], dtype='<U15'), array(['Average', 'L', 'Automn', 'slash-neck'], dtype='<U15'), array(['Average', 'M', 'Spring', 'o-neck'], dtype='<U15'), array(['Average', 'L', 'Winter', 'o-neck'], dtype='<U15'), array(['Average', 'L', 'Spring', 'o-neck'], dtype='<U15'), array(['Low', 'L', 'Automn', 'o-neck'], dtype='<U15'), array(['Average', 'L', 'Winter', 'v-neck'], dtype='<U15'), array(['Average', 'L', 'Winter', 'v-neck'], dtype='<U15'), array(['Average', 'free', 'Summer', 'o-neck'], dtype='<U15'), array(['Low', 'free', 'Spring', 'o-neck'], dtype='<U15'), array(['Average', 'L', 'Spring', 'o-neck'], dtype='<U15'), array(['Average', 'M', 'Summer', 'o-neck'], dtype='<U15'), array(['Average', 'free', 'Spring', 'o-neck'], dtype='<U15'), array(['Average', 'M', 'Winter', 'o-neck'], dtype='<U15'), array(['Average', 'M', 'Spring', 'v-neck'], dtype='<U15'), array(['Average', 'L', 'Winter', 'o-neck'], dtype='<U15'), array(['Average', 'L', 'Automn', 'o-neck'], dtype='<U15'), array(['Average', 'XL', 'Winter', 'o-neck'], dtype='<U15'), array(['Average', 'L', 'Automn', 'o-neck'], dtype='<U15'), array(['low', 'L', 'Spring', 'o-neck'], dtype='<U15'), array(['Average', 'M', 'Automn', 'o-neck'], dtype='<U15'), array(['Average', 'L', 'Spring', 'boat-neck'], dtype='<U15'), array(['Average', 'L', 'winter', 'v-neck'], dtype='<U15'), array(['Average', 'free', 'winter', 'o-neck'], dtype='<U15'), array(['low', 'L', 'Summer', 'o-neck'], dtype='<U15'), array(['High', 'L', 'Summer', 'o-neck'], dtype='<U15'), array(['Low', 'free', 'Spring', 'o-neck'], dtype='<U15'), array(['Average', 'L', 'Winter', 'o-neck'], dtype='<U15'), array(['Average', 'S', 'Spring', 'o-neck'], dtype='<U15'), array(['Average', 'L', 'Winter', 'o-neck'], dtype='<U15'), array(['Average', 'XL', 'Spring', 'boat-neck'], dtype='<U15'), array(['Average', 'L', 'Winter', 'open'], dtype='<U15'), array(['High', 'S', 'Spring', 'o-neck'], dtype='<U15'), array(['Average', 'free', 'Winter', 'o-neck'], dtype='<U15'), array(['Medium', 'L', 'Summer', 'o-neck'], dtype='<U15'), array(['Average', 'S', 'Automn', 'o-neck'], dtype='<U15'), array(['Low', 'L', 'Winter', 'o-neck'], dtype='<U15'), array(['low', 'L', 'Winter', 'o-neck'], dtype='<U15'), array(['Average', 'M', 'Spring', 'o-neck'], dtype='<U15'), array(['Average', 'free', 'Summer', 'o-neck'], dtype='<U15'), array(['low', 'free', 'Spring', 'o-neck'], dtype='<U15'), array(['Average', 'L', 'Winter', 'turndowncollor'], dtype='<U15'), array(['Low', 'S', 'Spring', 'o-neck'], dtype='<U15'), array(['Average', 'M', 'Summer', 'o-neck'], dtype='<U15'), array(['Average', 'M', 'Summer', 'o-neck'], dtype='<U15'), array(['Average', 'M', 'winter', 'o-neck'], dtype='<U15'), array(['Average', 'L', 'winter', 'o-neck'], dtype='<U15'), array(['Average', 'free', 'Winter', 'o-neck'], dtype='<U15'), array(['Average', 'XL', 'Automn', 'o-neck'], dtype='<U15'), array(['Average', 'L', 'Summer', 'slash-neck'], dtype='<U15'), array(['Average', 'L', 'Automn', 'o-neck'], dtype='<U15'), array(['Average', 'M', 'Summer', 'o-neck'], dtype='<U15'), array(['Average', 'L', 'Summer', 'o-neck'], dtype='<U15'), array(['Average', 'M', 'Winter', 'o-neck'], dtype='<U15'), array(['Average', 'free', 'Summer', 'o-neck'], dtype='<U15'), array(['Average', 'S', 'Spring', 'boat-neck'], dtype='<U15'), array(['Average', 'L', 'Automn', 'o-neck'], dtype='<U15'), array(['low', 'L', 'Winter', 'o-neck'], dtype='<U15'), array(['Average', 'M', 'Spring', 'o-neck'], dtype='<U15'), array(['Average', 'S', 'Spring', 'o-neck'], dtype='<U15'), array(['Average', 'S', 'Summer', 'o-neck'], dtype='<U15'), array(['Average', 'S', 'Winter', 'o-neck'], dtype='<U15'), array(['low', 'S', 'Spring', 'o-neck'], dtype='<U15'), array(['Average', 'M', 'Winter', 'o-neck'], dtype='<U15'), array(['low', 'free', 'Spring', 'o-neck'], dtype='<U15'), array(['Average', 'M', 'Automn', 'o-neck'], dtype='<U15'), array(['Average', 'M', 'Spring', 'slash-neck'], dtype='<U15'), array(['Average', 'L', 'Summer', 'o-neck'], dtype='<U15'), array(['Average', 'M', 'winter', 'o-neck'], dtype='<U15'), array(['Average', 'M', 'winter', 'o-neck'], dtype='<U15'), array(['Average', 'L', 'Spring', 'v-neck'], dtype='<U15'), array(['Average', 'M', 'Summer', 'o-neck'], dtype='<U15'), array(['Average', 'M', 'Winter', 'o-neck'], dtype='<U15'), array(['Average', 'M', 'Spring', 'Sweetheart'], dtype='<U15'), array(['very-high', 'L', 'Spring', 'Sweetheart'], dtype='<U15'), array(['high', 'L', 'Spring', 'slash-neck'], dtype='<U15'), array(['Average', 'L', 'nan', 'Sweetheart'], dtype='<U15'), array(['Average', 'free', 'Winter', 'o-neck'], dtype='<U15'), array(['Average', 'free', 'Spring', 'Sweetheart'], dtype='<U15'), array(['Average', 'free', 'Spring', 'Sweetheart'], dtype='<U15'), array(['Average', 'M', 'Spring', 'o-neck'], dtype='<U15'), array(['Medium', 'M', 'Spring', 'o-neck'], dtype='<U15'), array(['very-high', 'L', 'Spring', 'slash-neck'], dtype='<U15'), array(['Average', 'free', 'Winter', 'o-neck'], dtype='<U15'), array(['very-high', 'small', 'Spring', 'o-neck'], dtype='<U15'), array(['Medium', 'M', 'Spring', 'o-neck'], dtype='<U15'), array(['Average', 'M', 'Spring', 'v-neck'], dtype='<U15'), array(['Average', 'free', 'Summer', 'o-neck'], dtype='<U15'), array(['Average', 'M', 'Summer', 'o-neck'], dtype='<U15'), array(['Average', 'free', 'Summer', 'o-neck'], dtype='<U15'), array(['low', 'L', 'Spring', 'o-neck'], dtype='<U15'), array(['Average', 'L', 'Automn', 'o-neck'], dtype='<U15'), array(['Average', 'free', 'Summer', 'o-neck'], dtype='<U15'), array(['Average', 'free', 'winter', 'o-neck'], dtype='<U15'), array(['Average', 'L', 'Winter', 'o-neck'], dtype='<U15'), array(['Average', 'free', 'Spring', 'o-neck'], dtype='<U15'), array(['Average', 'L', 'Winter', 'o-neck'], dtype='<U15'), array(['Low', 'free', 'Spring', 'o-neck'], dtype='<U15'), array(['Low', 'M', 'Spring', 'o-neck'], dtype='<U15'), array(['Average', 'free', 'winter', 'o-neck'], dtype='<U15'), array(['low', 'L', 'Spring', 'o-neck'], dtype='<U15'), array(['Average', 'M', 'Winter', 'o-neck'], dtype='<U15'), array(['low', 'free', 'Spring', 'o-neck'], dtype='<U15'), array(['Medium', 'free', 'Spring', 'o-neck'], dtype='<U15'), array(['Low', 'free', 'Spring', 'o-neck'], dtype='<U15'), array(['Average', 'M', 'Spring', 'o-neck'], dtype='<U15'), array(['Low', 'L', 'Summer', 'o-neck'], dtype='<U15'), array(['Average', 'M', 'Spring', 'o-neck'], dtype='<U15'), array(['Low', 'L', 'Summer', 'o-neck'], dtype='<U15'), array(['Average', 'M', 'Summer', 'o-neck'], dtype='<U15'), array(['Average', 'M', 'Summer', 'o-neck'], dtype='<U15'), array(['Average', 'L', 'winter', 'o-neck'], dtype='<U15'), array(['Average', 'free', 'Winter', 'o-neck'], dtype='<U15'), array(['Average', 'L', 'Winter', 'o-neck'], dtype='<U15'), array(['Average', 'free', 'Summer', 'o-neck'], dtype='<U15'), array(['Average', 's', 'Spring', 'turndowncollor'], dtype='<U15'), array(['Low', 'M', 'Spring', 'o-neck'], dtype='<U15'), array(['Average', 'M', 'Spring', 'v-neck'], dtype='<U15'), array(['Average', 'free', 'Spring', 'v-neck'], dtype='<U15'), array(['Low', 'M', 'Spring', 'o-neck'], dtype='<U15'), array(['Average', 'L', 'Summer', 'o-neck'], dtype='<U15'), array(['Average', 'M', 'Automn', 'o-neck'], dtype='<U15'), array(['Low', 'L', 'Summer', 'o-neck'], dtype='<U15'), array(['Average', 'free', 'Winter', 'o-neck'], dtype='<U15'), array(['Average', 'free', 'Summer', 'o-neck'], dtype='<U15'), array(['Average', 'M', 'Spring', 'o-neck'], dtype='<U15'), array(['Average', 'M', 'Spring', 'o-neck'], dtype='<U15'), array(['Average', 'L', 'winter', 'o-neck'], dtype='<U15'), array(['Average', 'free', 'Summer', 'o-neck'], dtype='<U15'), array(['Average', 'free', 'winter', 'o-neck'], dtype='<U15'), array(['Average', 'M', 'Winter', 'o-neck'], dtype='<U15'), array(['Average', 'M', 'Summer', 'o-neck'], dtype='<U15'), array(['Average', 'M', 'Spring', 'turndowncollor'], dtype='<U15'), array(['low', 'L', 'Automn', 'o-neck'], dtype='<U15'), array(['Average', 'M', 'Automn', 'o-neck'], dtype='<U15'), array(['Average', 'L', 'Summer', 'sqare-collor'], dtype='<U15'), array(['Low', 'L', 'Summer', 'o-neck'], dtype='<U15'), array(['Average', 'M', 'Spring', 'o-neck'], dtype='<U15'), array(['Average', 'M', 'Summer', 'o-neck'], dtype='<U15'), array(['Low', 'M', 'Spring', 'o-neck'], dtype='<U15'), array(['Average', 'M', 'Spring', 'o-neck'], dtype='<U15'), array(['Medium', 'L', 'Winter', 'o-neck'], dtype='<U15'), array(['Average', 'free', 'Summer', 'o-neck'], dtype='<U15'), array(['Average', 'M', 'Summer', 'o-neck'], dtype='<U15'), array(['Average', 'M', 'Summer', 'o-neck'], dtype='<U15'), array(['Average', 'free', 'Summer', 'o-neck'], dtype='<U15'), array(['Average', 'free', 'Spring', 'v-neck'], dtype='<U15'), array(['Average', 'XL', 'Spring', 'slash-neck'], dtype='<U15'), array(['Medium', 'L', 'Spring', 'sqare-collor'], dtype='<U15'), array(['Average', 'M', 'Spring', 'o-neck'], dtype='<U15'), array(['Average', 'XL', 'Spring', 'bowneck'], dtype='<U15'), array(['Average', 'free', 'Autumn', 'o-neck'], dtype='<U15'), array(['Average', 'L', 'Summer', 'bowneck'], dtype='<U15'), array(['Average', 'M', 'Autumn', 'o-neck'], dtype='<U15'), array(['Low', 'free', 'Spring', 'o-neck'], dtype='<U15'), array(['Average', 'L', 'Autumn', 'boat-neck'], dtype='<U15'), array(['Average', 'L', 'winter', 'v-neck'], dtype='<U15'), array(['Average', 'free', 'Summer', 'o-neck'], dtype='<U15'), array(['Average', 'M', 'Spring', 'o-neck'], dtype='<U15'), array(['Average', 'M', 'Summer', 'o-neck'], dtype='<U15'), array(['Average', 'free', 'Summer', 'o-neck'], dtype='<U15'), array(['Average', 'M', 'Summer', 'o-neck'], dtype='<U15'), array(['Average', 'L', 'Spring', 'boat-neck'], dtype='<U15'), array(['Average', 'free', 'Autumn', 'o-neck'], dtype='<U15'), array(['Average', 'M', 'winter', 'o-neck'], dtype='<U15'), array(['Average', 'M', 'Summer', 'o-neck'], dtype='<U15'), array(['Low', 'L', 'Summer', 'o-neck'], dtype='<U15'), array(['Average', 'L', 'Summer', 'o-neck'], dtype='<U15'), array(['Average', 'M', 'Spring', 'o-neck'], dtype='<U15'), array(['Average', 'L', 'Spring', 'o-neck'], dtype='<U15'), array(['Average', 'M', 'Spring', 'o-neck'], dtype='<U15'), array(['Average', 'free', 'winter', 'o-neck'], dtype='<U15'), array(['Average', 'L', 'Summer', 'o-neck'], dtype='<U15'), array(['Average', 'L', 'Summer', 'o-neck'], dtype='<U15'), array(['Average', 'M', 'Spring', 'o-neck'], dtype='<U15'), array(['Average', 'M', 'winter', 'o-neck'], dtype='<U15'), array(['Low', 'M', 'Spring', 'o-neck'], dtype='<U15'), array(['Average', 'L', 'winter', 'boat-neck'], dtype='<U15')]\n"
     ]
    }
   ],
   "source": [
    "cluster_array = []\n",
    "def select_cluster_objects():\n",
    "    for i in range(len(labels)):\n",
    "        if labels[i] == 1:\n",
    "            cluster_array.append(data_array[i])\n",
    "select_cluster_objects()\n",
    "print(cluster_array)"
   ]
  },
  {
   "cell_type": "code",
   "execution_count": 17,
   "metadata": {},
   "outputs": [
    {
     "name": "stdout",
     "output_type": "stream",
     "text": [
      "number of labels with value 1 in labels:  234\n",
      "number of objects in cluster array:  234\n"
     ]
    }
   ],
   "source": [
    "count = 0\n",
    "for i in labels:\n",
    "    if i == 1:\n",
    "        count +=1\n",
    "print('number of labels with value 1 in labels: ', count)\n",
    "print('number of objects in cluster array: ', len(cluster_array))"
   ]
  },
  {
   "cell_type": "code",
   "execution_count": 18,
   "metadata": {},
   "outputs": [],
   "source": [
    "cluster_df = pd.DataFrame(cluster_array)"
   ]
  },
  {
   "cell_type": "code",
   "execution_count": 19,
   "metadata": {},
   "outputs": [
    {
     "data": {
      "text/html": [
       "<div>\n",
       "<style scoped>\n",
       "    .dataframe tbody tr th:only-of-type {\n",
       "        vertical-align: middle;\n",
       "    }\n",
       "\n",
       "    .dataframe tbody tr th {\n",
       "        vertical-align: top;\n",
       "    }\n",
       "\n",
       "    .dataframe thead th {\n",
       "        text-align: right;\n",
       "    }\n",
       "</style>\n",
       "<table border=\"1\" class=\"dataframe\">\n",
       "  <thead>\n",
       "    <tr style=\"text-align: right;\">\n",
       "      <th></th>\n",
       "      <th>0</th>\n",
       "      <th>1</th>\n",
       "      <th>2</th>\n",
       "      <th>3</th>\n",
       "    </tr>\n",
       "  </thead>\n",
       "  <tbody>\n",
       "    <tr>\n",
       "      <th>0</th>\n",
       "      <td>Low</td>\n",
       "      <td>L</td>\n",
       "      <td>Summer</td>\n",
       "      <td>o-neck</td>\n",
       "    </tr>\n",
       "    <tr>\n",
       "      <th>1</th>\n",
       "      <td>High</td>\n",
       "      <td>L</td>\n",
       "      <td>Automn</td>\n",
       "      <td>o-neck</td>\n",
       "    </tr>\n",
       "    <tr>\n",
       "      <th>2</th>\n",
       "      <td>Average</td>\n",
       "      <td>L</td>\n",
       "      <td>Spring</td>\n",
       "      <td>o-neck</td>\n",
       "    </tr>\n",
       "    <tr>\n",
       "      <th>3</th>\n",
       "      <td>Average</td>\n",
       "      <td>XL</td>\n",
       "      <td>Summer</td>\n",
       "      <td>o-neck</td>\n",
       "    </tr>\n",
       "    <tr>\n",
       "      <th>4</th>\n",
       "      <td>Average</td>\n",
       "      <td>free</td>\n",
       "      <td>Automn</td>\n",
       "      <td>o-neck</td>\n",
       "    </tr>\n",
       "  </tbody>\n",
       "</table>\n",
       "</div>"
      ],
      "text/plain": [
       "         0     1       2       3\n",
       "0      Low     L  Summer  o-neck\n",
       "1     High     L  Automn  o-neck\n",
       "2  Average     L  Spring  o-neck\n",
       "3  Average    XL  Summer  o-neck\n",
       "4  Average  free  Automn  o-neck"
      ]
     },
     "execution_count": 19,
     "metadata": {},
     "output_type": "execute_result"
    }
   ],
   "source": [
    "cluster_df.head()"
   ]
  },
  {
   "cell_type": "code",
   "execution_count": 20,
   "metadata": {},
   "outputs": [
    {
     "data": {
      "text/plain": [
       "(234, 4)"
      ]
     },
     "execution_count": 20,
     "metadata": {},
     "output_type": "execute_result"
    }
   ],
   "source": [
    "cluster_df.shape"
   ]
  },
  {
   "cell_type": "code",
   "execution_count": 21,
   "metadata": {},
   "outputs": [
    {
     "name": "stdout",
     "output_type": "stream",
     "text": [
      "Average      179\n",
      "Low           29\n",
      "low           11\n",
      "Medium         7\n",
      "High           4\n",
      "very-high      3\n",
      "high           1\n",
      "Name: 0, dtype: int64\n"
     ]
    }
   ],
   "source": [
    "def column_frequencies(dataframe):\n",
    "    frequencies = {}\n",
    "    for column in dataframe:\n",
    "        frequencies[column]= dataframe[column].value_counts()\n",
    "    return frequencies\n",
    "\n",
    "cluster1_frequencies = column_frequencies(cluster_df)\n",
    "print(cluster1_frequencies[0])"
   ]
  },
  {
   "cell_type": "code",
   "execution_count": 22,
   "metadata": {},
   "outputs": [
    {
     "data": {
      "text/plain": [
       "{0: Average      179\n",
       " Low           29\n",
       " low           11\n",
       " Medium         7\n",
       " High           4\n",
       " very-high      3\n",
       " high           1\n",
       " Name: 0, dtype: int64,\n",
       " 1: L        82\n",
       " M        80\n",
       " free     55\n",
       " S         9\n",
       " XL        6\n",
       " s         1\n",
       " small     1\n",
       " Name: 1, dtype: int64,\n",
       " 2: Spring    91\n",
       " Summer    56\n",
       " Winter    36\n",
       " Automn    28\n",
       " winter    16\n",
       " Autumn     4\n",
       " spring     2\n",
       " nan        1\n",
       " Name: 2, dtype: int64,\n",
       " 3: o-neck            189\n",
       " v-neck             19\n",
       " boat-neck           7\n",
       " slash-neck          6\n",
       " Sweetheart          5\n",
       " turndowncollor      3\n",
       " bowneck             2\n",
       " sqare-collor        2\n",
       " open                1\n",
       " Name: 3, dtype: int64}"
      ]
     },
     "execution_count": 22,
     "metadata": {},
     "output_type": "execute_result"
    }
   ],
   "source": [
    "cluster1_frequencies"
   ]
  },
  {
   "cell_type": "code",
   "execution_count": 23,
   "metadata": {},
   "outputs": [
    {
     "data": {
      "text/html": [
       "<div>\n",
       "<style scoped>\n",
       "    .dataframe tbody tr th:only-of-type {\n",
       "        vertical-align: middle;\n",
       "    }\n",
       "\n",
       "    .dataframe tbody tr th {\n",
       "        vertical-align: top;\n",
       "    }\n",
       "\n",
       "    .dataframe thead th {\n",
       "        text-align: right;\n",
       "    }\n",
       "</style>\n",
       "<table border=\"1\" class=\"dataframe\">\n",
       "  <thead>\n",
       "    <tr style=\"text-align: right;\">\n",
       "      <th></th>\n",
       "      <th>0</th>\n",
       "      <th>1</th>\n",
       "      <th>2</th>\n",
       "      <th>3</th>\n",
       "    </tr>\n",
       "  </thead>\n",
       "  <tbody>\n",
       "    <tr>\n",
       "      <th>0</th>\n",
       "      <td>Average</td>\n",
       "      <td>L</td>\n",
       "      <td>Spring</td>\n",
       "      <td>o-neck</td>\n",
       "    </tr>\n",
       "  </tbody>\n",
       "</table>\n",
       "</div>"
      ],
      "text/plain": [
       "         0  1       2       3\n",
       "0  Average  L  Spring  o-neck"
      ]
     },
     "execution_count": 23,
     "metadata": {},
     "output_type": "execute_result"
    }
   ],
   "source": [
    "cluster_mode = cluster_df.mode()\n",
    "cluster_mode"
   ]
  },
  {
   "cell_type": "code",
   "execution_count": 24,
   "metadata": {},
   "outputs": [
    {
     "data": {
      "text/html": [
       "<div>\n",
       "<style scoped>\n",
       "    .dataframe tbody tr th:only-of-type {\n",
       "        vertical-align: middle;\n",
       "    }\n",
       "\n",
       "    .dataframe tbody tr th {\n",
       "        vertical-align: top;\n",
       "    }\n",
       "\n",
       "    .dataframe thead th {\n",
       "        text-align: right;\n",
       "    }\n",
       "</style>\n",
       "<table border=\"1\" class=\"dataframe\">\n",
       "  <thead>\n",
       "    <tr style=\"text-align: right;\">\n",
       "      <th></th>\n",
       "      <th>0</th>\n",
       "      <th>1</th>\n",
       "      <th>2</th>\n",
       "      <th>3</th>\n",
       "    </tr>\n",
       "  </thead>\n",
       "  <tbody>\n",
       "    <tr>\n",
       "      <th>0</th>\n",
       "      <td>Average</td>\n",
       "      <td>L</td>\n",
       "      <td>Spring</td>\n",
       "      <td>o-neck</td>\n",
       "    </tr>\n",
       "  </tbody>\n",
       "</table>\n",
       "</div>"
      ],
      "text/plain": [
       "         0  1       2       3\n",
       "0  Average  L  Spring  o-neck"
      ]
     },
     "execution_count": 24,
     "metadata": {},
     "output_type": "execute_result"
    }
   ],
   "source": [
    "new_mode = pd.DataFrame(cluster_mode)\n",
    "new_mode"
   ]
  },
  {
   "cell_type": "code",
   "execution_count": 25,
   "metadata": {},
   "outputs": [
    {
     "data": {
      "text/plain": [
       "array([['Average', 'L', 'Spring', 'o-neck']], dtype='<U7')"
      ]
     },
     "execution_count": 25,
     "metadata": {},
     "output_type": "execute_result"
    }
   ],
   "source": [
    "new_mode_array = new_mode.to_numpy(dtype='str')\n",
    "new_mode_array"
   ]
  },
  {
   "cell_type": "code",
   "execution_count": 26,
   "metadata": {},
   "outputs": [
    {
     "data": {
      "text/plain": [
       "0"
      ]
     },
     "execution_count": 26,
     "metadata": {},
     "output_type": "execute_result"
    }
   ],
   "source": [
    "Qi = Q[0]\n",
    "Qu = new_mode_array[0]\n",
    "\n",
    "mode_difference = 0\n",
    "\n",
    "mode_difference_array = get_mode_object_comparision(Qi, Qu)\n",
    "\n",
    "for i in mode_difference_array:\n",
    "    if i == True:\n",
    "        mode_difference += 1\n",
    "    else:\n",
    "        continue\n",
    "\n",
    "mode_difference"
   ]
  },
  {
   "cell_type": "code",
   "execution_count": 27,
   "metadata": {},
   "outputs": [
    {
     "name": "stdout",
     "output_type": "stream",
     "text": [
      "iteration complete\n"
     ]
    }
   ],
   "source": [
    "while mode_difference != 0:\n",
    "    new_distances = calculate_distances(Qu, data_array)\n",
    "\n",
    "    for i in range(len(new_distances)):\n",
    "        if(distances[i] <= (len(Qu[0]) / 2)):\n",
    "            labels[i] = 1\n",
    "        else:\n",
    "            continue\n",
    "\n",
    "    new_cluster_array = []\n",
    "        \n",
    "    for i in range(len(labels)):\n",
    "        if labels[i] == 1:\n",
    "            new_cluster_array.append(data_array[i])\n",
    "\n",
    "    new_cluster_df = pd.DataFrame(new_cluster_array)\n",
    "    new_cluster_mode = pd.DataFrame(new_cluster_df.mode())\n",
    "    new_cluster_mode_array = new_cluster_mode.to_numpy(dtype='str')\n",
    "\n",
    "    Qi = Qu\n",
    "    Qu = new_cluster_mode_array[0]\n",
    "\n",
    "    mode_diff_array = get_mode_object_comparision(Qi, Qu)\n",
    "\n",
    "    count = 0\n",
    "\n",
    "    for i in mode_diff_array:\n",
    "        if i == True:\n",
    "            count += 1\n",
    "        else:\n",
    "            continue\n",
    "\n",
    "    mode_difference = count\n",
    "        \n",
    "print('iteration complete')"
   ]
  },
  {
   "cell_type": "code",
   "execution_count": 28,
   "metadata": {},
   "outputs": [
    {
     "data": {
      "text/plain": [
       "0"
      ]
     },
     "execution_count": 28,
     "metadata": {},
     "output_type": "execute_result"
    }
   ],
   "source": [
    "mode_difference"
   ]
  },
  {
   "cell_type": "code",
   "execution_count": 29,
   "metadata": {},
   "outputs": [
    {
     "data": {
      "text/plain": [
       "array(['Average', 'L', 'Spring', 'o-neck'], dtype='<U15')"
      ]
     },
     "execution_count": 29,
     "metadata": {},
     "output_type": "execute_result"
    }
   ],
   "source": [
    "Qi"
   ]
  },
  {
   "cell_type": "code",
   "execution_count": 30,
   "metadata": {},
   "outputs": [
    {
     "data": {
      "text/plain": [
       "array(['Average', 'L', 'Spring', 'o-neck'], dtype='<U7')"
      ]
     },
     "execution_count": 30,
     "metadata": {},
     "output_type": "execute_result"
    }
   ],
   "source": [
    "Qu"
   ]
  },
  {
   "cell_type": "code",
   "execution_count": 31,
   "metadata": {},
   "outputs": [
    {
     "data": {
      "text/plain": [
       "array([False, False, False, False])"
      ]
     },
     "execution_count": 31,
     "metadata": {},
     "output_type": "execute_result"
    }
   ],
   "source": [
    "mode_diff_array = get_mode_object_comparision(Qi, Qu)\n",
    "mode_diff_array"
   ]
  },
  {
   "cell_type": "code",
   "execution_count": 32,
   "metadata": {},
   "outputs": [
    {
     "data": {
      "text/plain": [
       "0"
      ]
     },
     "execution_count": 32,
     "metadata": {},
     "output_type": "execute_result"
    }
   ],
   "source": [
    "difference = 0\n",
    "    \n",
    "for i in mode_diff_array:\n",
    "    if i == True:\n",
    "        mode_difference += 1\n",
    "    else:\n",
    "        continue\n",
    "\n",
    "difference"
   ]
  },
  {
   "cell_type": "code",
   "execution_count": 33,
   "metadata": {},
   "outputs": [
    {
     "name": "stdout",
     "output_type": "stream",
     "text": [
      "number of labels with value 1 in labels:  234\n",
      "number of objects in cluster array:  234\n"
     ]
    }
   ],
   "source": [
    "count = 0\n",
    "for i in labels:\n",
    "    if i == 1:\n",
    "        count +=1\n",
    "print('number of labels with value 1 in labels: ', count)\n",
    "print('number of objects in cluster array: ', len(cluster_array))"
   ]
  },
  {
   "cell_type": "code",
   "execution_count": 47,
   "metadata": {},
   "outputs": [
    {
     "data": {
      "text/plain": [
       "0.468"
      ]
     },
     "execution_count": 47,
     "metadata": {},
     "output_type": "execute_result"
    }
   ],
   "source": [
    "clustering_accuracy = (234 / 500)\n",
    "clustering_accuracy"
   ]
  },
  {
   "cell_type": "code",
   "execution_count": 48,
   "metadata": {},
   "outputs": [
    {
     "data": {
      "text/plain": [
       "0.532"
      ]
     },
     "execution_count": 48,
     "metadata": {},
     "output_type": "execute_result"
    }
   ],
   "source": [
    "error = 1 - clustering_accuracy\n",
    "error"
   ]
  },
  {
   "cell_type": "markdown",
   "metadata": {},
   "source": [
    "# Bar Chart"
   ]
  },
  {
   "cell_type": "code",
   "execution_count": 36,
   "metadata": {},
   "outputs": [],
   "source": [
    "import matplotlib.pyplot as plt"
   ]
  },
  {
   "cell_type": "code",
   "execution_count": 37,
   "metadata": {},
   "outputs": [],
   "source": [
    "size = data['Size']\n",
    "price = data['Price']\n",
    "neckline = data['NeckLine']\n",
    "season = data['Season']"
   ]
  },
  {
   "cell_type": "code",
   "execution_count": 38,
   "metadata": {},
   "outputs": [
    {
     "data": {
      "text/plain": [
       "<Figure size 720x504 with 0 Axes>"
      ]
     },
     "metadata": {},
     "output_type": "display_data"
    }
   ],
   "source": [
    "fig = plt.figure(figsize =(10, 7))"
   ]
  },
  {
   "cell_type": "code",
   "execution_count": 43,
   "metadata": {},
   "outputs": [
    {
     "data": {
      "text/plain": [
       "<BarContainer object of 10 artists>"
      ]
     },
     "execution_count": 43,
     "metadata": {},
     "output_type": "execute_result"
    },
    {
     "data": {
      "image/png": "[encoded data removed]",
      "text/plain": [
       "<Figure size 432x288 with 1 Axes>"
      ]
     },
     "metadata": {
      "needs_background": "light"
     },
     "output_type": "display_data"
    }
   ],
   "source": [
    "plt.xlabel('Size', fontweight ='bold', fontsize = 15)\n",
    "plt.ylabel('Price', fontweight ='bold', fontsize = 15)\n",
    "\n",
    "\n",
    "plt.bar(size[0:10], price[0:10])"
   ]
  },
  {
   "cell_type": "code",
   "execution_count": 44,
   "metadata": {},
   "outputs": [
    {
     "data": {
      "text/plain": [
       "<BarContainer object of 10 artists>"
      ]
     },
     "execution_count": 44,
     "metadata": {},
     "output_type": "execute_result"
    },
    {
     "data": {
      "image/png": "[encoded data removed]",
      "text/plain": [
       "<Figure size 432x288 with 1 Axes>"
      ]
     },
     "metadata": {
      "needs_background": "light"
     },
     "output_type": "display_data"
    }
   ],
   "source": [
    "plt.xlabel('Neckline', fontweight ='bold', fontsize = 15)\n",
    "plt.ylabel('Price', fontweight ='bold', fontsize = 15)\n",
    "\n",
    "plt.bar(neckline[0:10], price[0:10])"
   ]
  },
  {
   "cell_type": "code",
   "execution_count": 45,
   "metadata": {},
   "outputs": [
    {
     "data": {
      "text/plain": [
       "<BarContainer object of 10 artists>"
      ]
     },
     "execution_count": 45,
     "metadata": {},
     "output_type": "execute_result"
    },
    {
     "data": {
      "image/png": "[encoded data removed]",
      "text/plain": [
       "<Figure size 432x288 with 1 Axes>"
      ]
     },
     "metadata": {
      "needs_background": "light"
     },
     "output_type": "display_data"
    }
   ],
   "source": [
    "plt.xlabel('Neckline', fontweight ='bold', fontsize = 15)\n",
    "plt.ylabel('Season', fontweight ='bold', fontsize = 15)\n",
    "\n",
    "\n",
    "plt.bar(neckline[0:10], season[0:10])"
   ]
  },
  {
   "cell_type": "code",
   "execution_count": null,
   "metadata": {},
   "outputs": [],
   "source": []
  }
 ],
 "metadata": {
  "kernelspec": {
   "display_name": "Python 3",
   "language": "python",
   "name": "python3"
  },
  "language_info": {
   "codemirror_mode": {
    "name": "ipython",
    "version": 3
   },
   "file_extension": ".py",
   "mimetype": "text/x-python",
   "name": "python",
   "nbconvert_exporter": "python",
   "pygments_lexer": "ipython3",
   "version": "3.8.3"
  }
 },
 "nbformat": 4,
 "nbformat_minor": 4
}
