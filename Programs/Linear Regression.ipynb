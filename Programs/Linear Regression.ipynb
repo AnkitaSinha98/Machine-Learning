{
 "cells": [
  {
   "cell_type": "markdown",
   "metadata": {},
   "source": [
    "# LINEAR REGRESSION FROM SCRATCH\n",
    "<h3>(Multiple classes)</h3>"
   ]
  },
  {
   "cell_type": "code",
   "execution_count": 1,
   "metadata": {},
   "outputs": [],
   "source": [
    "import numpy as np\n",
    "import matplotlib.pyplot as plt\n",
    "import pandas as pd\n",
    "import seaborn as sns\n",
    "from sklearn.model_selection import train_test_split\n",
    "\n",
    "import matplotlib.patches as mpatches"
   ]
  },
  {
   "cell_type": "code",
   "execution_count": 2,
   "metadata": {},
   "outputs": [],
   "source": [
    "def Slope(a,b):\n",
    "    n=len(a)\n",
    "    two_sum=np.sum(a*b)\n",
    "    sumX=np.sum(a)\n",
    "    sumY=np.sum(b)\n",
    "    sumX_2=np.sum(a**2)\n",
    "    slope=(n*two_sum-sumX*sumY)/(n*sumX_2-(sumX)**2)\n",
    "    return slope"
   ]
  },
  {
   "cell_type": "code",
   "execution_count": 3,
   "metadata": {},
   "outputs": [],
   "source": [
    "def Intercept(a,b):\n",
    "    intercept=np.mean(b)-Slope(a,b)*np.mean(a)\n",
    "    return intercept"
   ]
  },
  {
   "cell_type": "code",
   "execution_count": 4,
   "metadata": {},
   "outputs": [],
   "source": [
    "def Predictions(slope,x_input,intercept):\n",
    "    predict=slope*x_input + intercept\n",
    "    return predict"
   ]
  },
  {
   "cell_type": "code",
   "execution_count": 5,
   "metadata": {},
   "outputs": [],
   "source": [
    "def R_squared(predicted_values,test_values):\n",
    "    f=predicted_values\n",
    "    y=test_values\n",
    "    print(f,'\\n\\n',y)\n",
    "    ss_total=np.sum((y-np.mean(y))**2)\n",
    "    ss_res=np.sum((y-f)**2)\n",
    "    R_2=1-(ss_res/ss_total)\n",
    "    return R_2"
   ]
  },
  {
   "cell_type": "code",
   "execution_count": 6,
   "metadata": {},
   "outputs": [],
   "source": [
    "def correlation_coeff(predicted_values,test_values):\n",
    "    a=predicted_values\n",
    "    b=test_values\n",
    "    n=len(a)\n",
    "    two_sum=np.sum(a*b)\n",
    "    sumX=np.sum(a)\n",
    "    sumY=np.sum(b)\n",
    "    sumX_2=np.sum(a**2)\n",
    "    sumY_2=np.sum(b**2)\n",
    "    score=(n*two_sum-sumX*sumY)/np.sqrt((n*sumX_2-(sumX)**2)*(n*sumY_2-(sumY)**2))\n",
    "    return score"
   ]
  },
  {
   "cell_type": "code",
   "execution_count": 7,
   "metadata": {},
   "outputs": [],
   "source": [
    "def Covariance(X,Y):\n",
    "    a=X\n",
    "    b=Y\n",
    "    n=len(a)\n",
    "    two_sum=np.sum(a*b)\n",
    "    cov=two_sum/n-np.mean(a)*np.mean(b)\n",
    "    return cov"
   ]
  },
  {
   "cell_type": "code",
   "execution_count": 10,
   "metadata": {},
   "outputs": [],
   "source": [
    "dataset=pd.read_csv('Salary_Data.csv') "
   ]
  },
  {
   "cell_type": "code",
   "execution_count": 11,
   "metadata": {},
   "outputs": [
    {
     "name": "stdout",
     "output_type": "stream",
     "text": [
      "(30,)\n",
      "(30,)\n"
     ]
    }
   ],
   "source": [
    "array = dataset.values\n",
    "X = array[:,0]\n",
    "print(X.shape)\n",
    "Y = array[:,1]\n",
    "print(Y.shape)"
   ]
  },
  {
   "cell_type": "code",
   "execution_count": 12,
   "metadata": {},
   "outputs": [
    {
     "data": {
      "image/png": "[encoded data removed]",
      "text/plain": [
       "<Figure size 432x288 with 1 Axes>"
      ]
     },
     "metadata": {
      "needs_background": "light"
     },
     "output_type": "display_data"
    },
    {
     "data": {
      "image/png": "[encoded data removed]",
      "text/plain": [
       "<Figure size 432x288 with 1 Axes>"
      ]
     },
     "metadata": {
      "needs_background": "light"
     },
     "output_type": "display_data"
    }
   ],
   "source": [
    "left = 0.1\n",
    "width = 0.8\n",
    "ax1 = plt.axes([left, 0.5, width, 0.45])\n",
    "ax1.boxplot(X)\n",
    "ax1.set_title('Box plot for X')\n",
    "plt.show()\n",
    "ax2 = plt.axes([left, 0.5, width, 0.45])\n",
    "ax2.boxplot(Y, '.-')\n",
    "ax2.set_title('Distribution of Y Data')\n",
    "plt.show()"
   ]
  },
  {
   "cell_type": "code",
   "execution_count": 13,
   "metadata": {},
   "outputs": [
    {
     "name": "stdout",
     "output_type": "stream",
     "text": [
      "73569.4266666667\n"
     ]
    }
   ],
   "source": [
    "print(Covariance(X,Y))"
   ]
  },
  {
   "cell_type": "code",
   "execution_count": 14,
   "metadata": {},
   "outputs": [],
   "source": [
    "test_size = 0.10\n",
    "seed = 7\n",
    "X_train, X_validation, Y_train, Y_validation = train_test_split(X, Y,test_size= test_size, random_state=seed)"
   ]
  },
  {
   "cell_type": "code",
   "execution_count": 15,
   "metadata": {},
   "outputs": [
    {
     "name": "stdout",
     "output_type": "stream",
     "text": [
      "24525.04300166155 9589.490012922264\n",
      "[38909.27802104 75349.34007015 36991.38001846]\n",
      "[38909.27802104 75349.34007015 36991.38001846] \n",
      "\n",
      " [37731. 83088. 46205.]\n",
      "0.8743350638929306\n",
      "0.975680209596182\n"
     ]
    }
   ],
   "source": [
    "intercept=Intercept(X_train,Y_train)\n",
    "slope=Slope(X_train,Y_train)\n",
    "print(intercept,slope)\n",
    "predictions=Predictions(slope=slope,x_input=X_validation,intercept=intercept)\n",
    "print(predictions)\n",
    "print(R_squared(predicted_values=predictions,test_values=Y_validation))\n",
    "print(correlation_coeff(test_values=Y_validation,predicted_values=predictions))"
   ]
  },
  {
   "cell_type": "code",
   "execution_count": 16,
   "metadata": {},
   "outputs": [],
   "source": [
    "y=slope*X+intercept"
   ]
  },
  {
   "cell_type": "code",
   "execution_count": 18,
   "metadata": {},
   "outputs": [
    {
     "data": {
      "image/png": "[encoded data removed]",
      "text/plain": [
       "<Figure size 432x288 with 1 Axes>"
      ]
     },
     "metadata": {
      "needs_background": "light"
     },
     "output_type": "display_data"
    }
   ],
   "source": [
    "plt.scatter(X,Y,marker='^',color='k',alpha=0.55)\n",
    "plt.plot(X,y,color='Red',linewidth=2)\n",
    "red_patch = mpatches.Patch(color='red', label='Regression Line')\n",
    "plt.legend(loc=0,handles=[red_patch])\n",
    "plt.title('Linear Regression Plot')\n",
    "plt.tight_layout(pad=2)\n",
    "plt.grid(False)\n",
    "plt.show()"
   ]
  },
  {
   "cell_type": "code",
   "execution_count": 19,
   "metadata": {},
   "outputs": [
    {
     "data": {
      "image/png": "[encoded data removed]",
      "text/plain": [
       "<Figure size 432x288 with 1 Axes>"
      ]
     },
     "metadata": {},
     "output_type": "display_data"
    }
   ],
   "source": [
    "sns.set(style=\"whitegrid\")\n",
    "\n",
    "rs = np.random.RandomState(7)\n",
    "\n",
    "sns.residplot(X, Y, lowess=True, color=\"r\")\n",
    "plt.title('Residual Plot')\n",
    "plt.show()"
   ]
  }
 ],
 "metadata": {
  "kernelspec": {
   "display_name": "Python 3",
   "language": "python",
   "name": "python3"
  },
  "language_info": {
   "codemirror_mode": {
    "name": "ipython",
    "version": 3
   },
   "file_extension": ".py",
   "mimetype": "text/x-python",
   "name": "python",
   "nbconvert_exporter": "python",
   "pygments_lexer": "ipython3",
   "version": "3.8.3"
  }
 },
 "nbformat": 4,
 "nbformat_minor": 4
}
