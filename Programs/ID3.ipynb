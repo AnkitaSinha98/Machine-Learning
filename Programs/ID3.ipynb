{
 "cells": [
  {
   "cell_type": "markdown",
   "metadata": {},
   "source": [
    "# Machine Learning Techniques (CSE6024) Cycle Sheet-2\n",
    "\n",
    "<h2>ANKITA SINHA (20MCI0003)</h2>\n",
    "\n",
    "\n",
    "<h3> Team Member: 20MCI0014, and 20MCI0010 </h3>\n",
    "\n",
    "<p><b>Libraries used:</b> numpy, pandas and matplotlib.pyplot </p>\n",
    "<p><b> Dataset used:</b> Tennis and Salary_Data.csv</p>\n",
    "<h2> ID3 Decision Tree Program</h2>"
   ]
  },
  {
   "cell_type": "code",
   "execution_count": 14,
   "metadata": {},
   "outputs": [],
   "source": [
    "import numpy as np\n",
    "import pandas as pd\n",
    "import matplotlib.pyplot as plt"
   ]
  },
  {
   "cell_type": "code",
   "execution_count": 15,
   "metadata": {},
   "outputs": [],
   "source": [
    "outlook = 'overcast,overcast,overcast,overcast,rainy,rainy,rainy,rainy,rainy,sunny,sunny,sunny,sunny,sunny'.split(',')\n",
    "temp = 'hot,cool,mild,hot,mild,cool,cool,mild,mild,hot,hot,mild,cool,mild'.split(',')\n",
    "humidity = 'high,normal,high,normal,high,normal,normal,normal,high,high,high,high,normal,normal'.split(',')\n",
    "windy = 'FALSE,TRUE,TRUE,FALSE,FALSE,FALSE,TRUE,FALSE,TRUE,FALSE,TRUE,FALSE,FALSE,TRUE'.split(',')\n",
    "play = 'yes,yes,yes,yes,yes,yes,no,yes,no,no,no,no,yes,yes'.split(',')"
   ]
  },
  {
   "cell_type": "code",
   "execution_count": 16,
   "metadata": {},
   "outputs": [
    {
     "name": "stdout",
     "output_type": "stream",
     "text": [
      "['overcast', 'overcast', 'overcast', 'overcast', 'rainy', 'rainy', 'rainy', 'rainy', 'rainy', 'sunny', 'sunny', 'sunny', 'sunny', 'sunny']\n",
      "['yes', 'yes', 'yes', 'yes', 'yes', 'yes', 'no', 'yes', 'no', 'no', 'no', 'no', 'yes', 'yes']\n",
      "14\n",
      "14\n"
     ]
    }
   ],
   "source": [
    "print(outlook)\n",
    "print(play)\n",
    "print(len(outlook))\n",
    "print(len(play))"
   ]
  },
  {
   "cell_type": "code",
   "execution_count": 17,
   "metadata": {},
   "outputs": [],
   "source": [
    "dataset ={'outlook':outlook,'temp':temp,'humidity':humidity,'windy':windy,'play':play}\n",
    "df = pd.DataFrame(dataset,columns=['outlook','temp','humidity','windy','play'])"
   ]
  },
  {
   "cell_type": "code",
   "execution_count": 18,
   "metadata": {},
   "outputs": [
    {
     "name": "stdout",
     "output_type": "stream",
     "text": [
      "14\n",
      "14\n",
      "Index(['outlook', 'temp', 'humidity', 'windy', 'play'], dtype='object')\n",
      "yes    9\n",
      "no     5\n",
      "Name: play, dtype: int64\n",
      "0    hot\n",
      "3    hot\n",
      "Name: temp, dtype: object\n",
      "     outlook temp humidity  windy play\n",
      "0   overcast  hot     high  FALSE  yes\n",
      "3   overcast  hot   normal  FALSE  yes\n",
      "9      sunny  hot     high  FALSE   no\n",
      "10     sunny  hot     high   TRUE   no\n",
      "['gym' 'play'] [1 2]\n"
     ]
    }
   ],
   "source": [
    "print(len(df)) \n",
    "print(len(df['play']))\n",
    "print(df.columns) \n",
    "print(df['play'].value_counts())\n",
    "print(df['temp'][df['temp']=='hot'][df['play']=='yes']) \n",
    "print(df[df['temp']=='hot'])\n",
    "clValue,counts = np.unique(['play','gym','play'],return_counts=True)\n",
    "print(clValue,counts)"
   ]
  },
  {
   "cell_type": "code",
   "execution_count": 19,
   "metadata": {},
   "outputs": [],
   "source": [
    "def find_entropy(df):\n",
    "    Class = df.keys()[-1]\n",
    "    entropy = 0\n",
    "    vals = df[Class].unique() \n",
    "    for value in vals:\n",
    "        fraction = df[Class].value_counts()[value]/len(df[Class])\n",
    "        entropy += -fraction*np.log2(fraction)\n",
    "    return entropy"
   ]
  },
  {
   "cell_type": "code",
   "execution_count": 20,
   "metadata": {},
   "outputs": [
    {
     "data": {
      "text/plain": [
       "0.9402859586706311"
      ]
     },
     "execution_count": 20,
     "metadata": {},
     "output_type": "execute_result"
    }
   ],
   "source": [
    "find_entropy(df)"
   ]
  },
  {
   "cell_type": "code",
   "execution_count": 21,
   "metadata": {},
   "outputs": [],
   "source": [
    "def find_entropy_attribute(df,attribute):\n",
    "    Class = df.keys()[-1]\n",
    "    target_variables = df[Class].unique()\n",
    "    variables = df[attribute].unique()  \n",
    "    entropy1 = 0\n",
    "    for var in variables:\n",
    "        entropy = 0\n",
    "        for tar_var in target_variables:\n",
    "            num = len(df[attribute][df[attribute]==var][df[Class]==tar_var])\n",
    "            den = len(df[attribute][df[attribute]==var])\n",
    "            fraction = num/(den)\n",
    "            if fraction==0:\n",
    "                continue\n",
    "            else:\n",
    "                entropy += -fraction*np.log2(fraction)\n",
    "        fraction2 = den/len(df)\n",
    "        entropy1 += -fraction2*entropy\n",
    "    return abs(entropy1)"
   ]
  },
  {
   "cell_type": "code",
   "execution_count": 22,
   "metadata": {},
   "outputs": [
    {
     "name": "stdout",
     "output_type": "stream",
     "text": [
      "0.6935361388961918\n"
     ]
    }
   ],
   "source": [
    "print(find_entropy_attribute(df,'outlook'))"
   ]
  },
  {
   "cell_type": "code",
   "execution_count": 23,
   "metadata": {},
   "outputs": [
    {
     "name": "stdout",
     "output_type": "stream",
     "text": [
      "[0.6935361388961918, 0.9110633930116763, 0.7884504573082896, 0.8921589282623617]\n"
     ]
    }
   ],
   "source": [
    "list_entropy_attributes = [find_entropy_attribute(df,i) for i in df.columns[0:-1]] #entropy of all attributes except last one\n",
    "print(list_entropy_attributes)"
   ]
  },
  {
   "cell_type": "code",
   "execution_count": 24,
   "metadata": {},
   "outputs": [],
   "source": [
    "def find_winner(df):\n",
    "    ig = []\n",
    "    for key in df.keys()[:-1]:\n",
    "        ig.append(find_entropy(df)-find_entropy_attribute(df,key))\n",
    "    return df.keys()[:-1][np.argmax(ig)]"
   ]
  },
  {
   "cell_type": "code",
   "execution_count": 25,
   "metadata": {},
   "outputs": [
    {
     "name": "stdout",
     "output_type": "stream",
     "text": [
      "outlook\n"
     ]
    }
   ],
   "source": [
    "print(find_winner(df))"
   ]
  },
  {
   "cell_type": "code",
   "execution_count": 27,
   "metadata": {},
   "outputs": [],
   "source": [
    "def get_subtable(df,node,value):\n",
    "    return df[df[node]==value].reset_index(drop=True)"
   ]
  },
  {
   "cell_type": "code",
   "execution_count": 28,
   "metadata": {},
   "outputs": [],
   "source": [
    "def build_tree(df,tree=None):\n",
    "    Class = df.keys()[-1]\n",
    "    node = find_winner(df)\n",
    "\n",
    "    att_val = np.unique(df[node]) \n",
    "    if tree is None:\n",
    "        tree = {}\n",
    "        tree[node] = {}\n",
    "        for val in att_val:\n",
    "            subtable = get_subtable(df,node,val)\n",
    "            clValue,counts = np.unique(subtable['play'],return_counts=True)\n",
    "            if len(counts)==1:\n",
    "                tree[node][val] = clValue[0]\n",
    "            else:\n",
    "                tree[node][val] = build_tree(subtable)\n",
    "    return tree"
   ]
  },
  {
   "cell_type": "code",
   "execution_count": 29,
   "metadata": {},
   "outputs": [
    {
     "name": "stdout",
     "output_type": "stream",
     "text": [
      "{'outlook': {'overcast': 'yes',\n",
      "             'rainy': {'windy': {'FALSE': 'yes', 'TRUE': 'no'}},\n",
      "             'sunny': {'humidity': {'high': 'no', 'normal': 'yes'}}}}\n"
     ]
    }
   ],
   "source": [
    "t = build_tree(df)\n",
    "import pprint\n",
    "pprint.pprint(t)"
   ]
  }
 ],
 "metadata": {
  "kernelspec": {
   "display_name": "Python 3",
   "language": "python",
   "name": "python3"
  },
  "language_info": {
   "codemirror_mode": {
    "name": "ipython",
    "version": 3
   },
   "file_extension": ".py",
   "mimetype": "text/x-python",
   "name": "python",
   "nbconvert_exporter": "python",
   "pygments_lexer": "ipython3",
   "version": "3.8.3"
  }
 },
 "nbformat": 4,
 "nbformat_minor": 4
}
